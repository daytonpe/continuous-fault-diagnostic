{
 "cells": [
  {
   "cell_type": "markdown",
   "metadata": {},
   "source": [
    "# CS6301 IOT Project 2\n",
    "\n",
    "## Fault Diagnostic Tool (Read Side)\n",
    "\n",
    "This side of the application ingests data from the data generator and ensures it's being imported into the database correctly.\n",
    "\n",
    "### Before Running this Notebook\n",
    "1. Ensure the database is running on your localhost. Using docker-compose file in the root of the project directory we can start the InfluxDB with the following command from the root directory:\n",
    "`dc up timeseriesdb`\n",
    "\n",
    "2. Turn on the data generator with the following command from the \"iot\" directory.\n",
    "`java -jar datagen-2.2-SNAPSHOT.jar -offline`"
   ]
  },
  {
   "cell_type": "markdown",
   "metadata": {},
   "source": [
    "## Connect to Database"
   ]
  },
  {
   "cell_type": "code",
   "execution_count": 2,
   "metadata": {},
   "outputs": [
    {
     "name": "stdout",
     "output_type": "stream",
     "text": [
      "Requirement already satisfied: influxdb in /Users/daytonpe/anaconda3/envs/iot/lib/python3.7/site-packages (5.2.3)\n",
      "Requirement already satisfied: requests>=2.17.0 in /Users/daytonpe/anaconda3/envs/iot/lib/python3.7/site-packages (from influxdb) (2.23.0)\n",
      "Requirement already satisfied: pytz in /Users/daytonpe/anaconda3/envs/iot/lib/python3.7/site-packages (from influxdb) (2019.3)\n",
      "Requirement already satisfied: python-dateutil>=2.6.0 in /Users/daytonpe/anaconda3/envs/iot/lib/python3.7/site-packages (from influxdb) (2.8.1)\n",
      "Requirement already satisfied: six>=1.10.0 in /Users/daytonpe/anaconda3/envs/iot/lib/python3.7/site-packages (from influxdb) (1.14.0)\n",
      "Requirement already satisfied: chardet<4,>=3.0.2 in /Users/daytonpe/anaconda3/envs/iot/lib/python3.7/site-packages (from requests>=2.17.0->influxdb) (3.0.4)\n",
      "Requirement already satisfied: urllib3!=1.25.0,!=1.25.1,<1.26,>=1.21.1 in /Users/daytonpe/anaconda3/envs/iot/lib/python3.7/site-packages (from requests>=2.17.0->influxdb) (1.25.8)\n",
      "Requirement already satisfied: idna<3,>=2.5 in /Users/daytonpe/anaconda3/envs/iot/lib/python3.7/site-packages (from requests>=2.17.0->influxdb) (2.9)\n",
      "Requirement already satisfied: certifi>=2017.4.17 in /Users/daytonpe/anaconda3/envs/iot/lib/python3.7/site-packages (from requests>=2.17.0->influxdb) (2019.11.28)\n"
     ]
    }
   ],
   "source": [
    "!pip install influxdb"
   ]
  },
  {
   "cell_type": "code",
   "execution_count": 3,
   "metadata": {},
   "outputs": [],
   "source": [
    "from influxdb import InfluxDBClient\n",
    "import json\n",
    "import numpy as np\n",
    "import pandas as pd\n",
    "import datetime"
   ]
  },
  {
   "cell_type": "code",
   "execution_count": 4,
   "metadata": {},
   "outputs": [],
   "source": [
    "client = InfluxDBClient(host='localhost', port=8086, username='admin', password='password')"
   ]
  },
  {
   "cell_type": "code",
   "execution_count": 5,
   "metadata": {},
   "outputs": [
    {
     "data": {
      "text/plain": [
       "[{'name': '_internal'}, {'name': 'timeseriesdb'}]"
      ]
     },
     "execution_count": 5,
     "metadata": {},
     "output_type": "execute_result"
    }
   ],
   "source": [
    "client.get_list_database()"
   ]
  },
  {
   "cell_type": "markdown",
   "metadata": {},
   "source": [
    "## Ingest Data (Example: Offline Data)\n",
    "In this section we will ingest the data from a text file for exploration purposes. Normally this data would be ingesteddirctly from the Java data generator."
   ]
  },
  {
   "cell_type": "code",
   "execution_count": 49,
   "metadata": {},
   "outputs": [],
   "source": [
    "client.drop_database('timeseriesdb')"
   ]
  },
  {
   "cell_type": "code",
   "execution_count": 50,
   "metadata": {},
   "outputs": [],
   "source": [
    "# client.create_database('timeseriesdb')\n",
    "client.query('create database timeseriesdb with duration 1d')\n",
    "client.switch_database('timeseriesdb')"
   ]
  },
  {
   "cell_type": "code",
   "execution_count": 44,
   "metadata": {},
   "outputs": [],
   "source": [
    "client.query('create database testdb with duration 1h')\n",
    "client.switch_database('testdb')"
   ]
  },
  {
   "cell_type": "code",
   "execution_count": 175,
   "metadata": {},
   "outputs": [],
   "source": [
    "f = open('data/offline-train-SMALL.txt', 'r')\n",
    "lines = f.readlines()\n",
    "f.close()"
   ]
  },
  {
   "cell_type": "code",
   "execution_count": 176,
   "metadata": {},
   "outputs": [
    {
     "data": {
      "text/plain": [
       "26452"
      ]
     },
     "execution_count": 176,
     "metadata": {},
     "output_type": "execute_result"
    }
   ],
   "source": [
    "len(lines)"
   ]
  },
  {
   "cell_type": "code",
   "execution_count": 177,
   "metadata": {},
   "outputs": [],
   "source": [
    "measurement = 'gear_metrics'"
   ]
  },
  {
   "cell_type": "code",
   "execution_count": 178,
   "metadata": {},
   "outputs": [],
   "source": [
    "data = []"
   ]
  },
  {
   "cell_type": "code",
   "execution_count": 179,
   "metadata": {},
   "outputs": [
    {
     "data": {
      "text/plain": [
       "{'metric': 'offline',\n",
       " 'timestamp': 0,\n",
       " 'label': 0,\n",
       " 'sr': 97656.0,\n",
       " 'rate': 25.0,\n",
       " 'gs': 0.8407559,\n",
       " 'load': '270.0'}"
      ]
     },
     "execution_count": 179,
     "metadata": {},
     "output_type": "execute_result"
    }
   ],
   "source": [
    "x = json.loads(lines[0])\n",
    "x"
   ]
  },
  {
   "cell_type": "code",
   "execution_count": 180,
   "metadata": {},
   "outputs": [],
   "source": [
    "data = []\n",
    "for line in lines:\n",
    "    json_line = json.loads(line)\n",
    "    # Form: 'gear_metrics,metric=offline label=0,sr=97656.0,rate=25.0,gs=0.8407559,load=270.0,timestamp=0'\n",
    "    data.append(\"{},metric={} label={},sr={},rate={},gs={},load={},timestamp={}\".format(measurement, json_line['metric'], json_line['label'], json_line['sr'], json_line['rate'], json_line['gs'], json_line['load'], json_line['timestamp']))\n",
    "    \n",
    "    "
   ]
  },
  {
   "cell_type": "code",
   "execution_count": 181,
   "metadata": {},
   "outputs": [
    {
     "data": {
      "text/plain": [
       "['gear_metrics,metric=offline label=0,sr=97656.0,rate=25.0,gs=0.8407559,load=270.0,timestamp=0',\n",
       " 'gear_metrics,metric=offline label=0,sr=97656.0,rate=25.0,gs=0.5152432,load=270.0,timestamp=1',\n",
       " 'gear_metrics,metric=offline label=0,sr=97656.0,rate=25.0,gs=-0.03834483,load=270.0,timestamp=2',\n",
       " 'gear_metrics,metric=offline label=0,sr=97656.0,rate=25.0,gs=1.184862,load=270.0,timestamp=3',\n",
       " 'gear_metrics,metric=offline label=0,sr=97656.0,rate=25.0,gs=0.8497145,load=270.0,timestamp=4',\n",
       " 'gear_metrics,metric=offline label=0,sr=97656.0,rate=25.0,gs=-0.3333637,load=270.0,timestamp=5',\n",
       " 'gear_metrics,metric=offline label=0,sr=97656.0,rate=25.0,gs=0.0906198,load=270.0,timestamp=6',\n",
       " 'gear_metrics,metric=offline label=0,sr=97656.0,rate=25.0,gs=-0.3867708,load=270.0,timestamp=7',\n",
       " 'gear_metrics,metric=offline label=0,sr=97656.0,rate=25.0,gs=-0.4381106,load=270.0,timestamp=8',\n",
       " 'gear_metrics,metric=offline label=0,sr=97656.0,rate=25.0,gs=-0.7925295,load=270.0,timestamp=9']"
      ]
     },
     "execution_count": 181,
     "metadata": {},
     "output_type": "execute_result"
    }
   ],
   "source": [
    "data[:10]"
   ]
  },
  {
   "cell_type": "code",
   "execution_count": 182,
   "metadata": {},
   "outputs": [
    {
     "data": {
      "text/plain": [
       "'labeled_data, metric=classification timestamp=2020-03-26T21:14:48.527Z,label=0'"
      ]
     },
     "execution_count": 182,
     "metadata": {},
     "output_type": "execute_result"
    }
   ],
   "source": [
    "'labeled_data, metric=classification timestamp=2020-03-26T21:14:48.527Z,label=0'"
   ]
  },
  {
   "cell_type": "code",
   "execution_count": 183,
   "metadata": {},
   "outputs": [
    {
     "data": {
      "text/plain": [
       "True"
      ]
     },
     "execution_count": 183,
     "metadata": {},
     "output_type": "execute_result"
    }
   ],
   "source": [
    "client.write_points(data, database='testdb', time_precision='ms', batch_size=100, protocol='line')"
   ]
  },
  {
   "cell_type": "code",
   "execution_count": 184,
   "metadata": {},
   "outputs": [],
   "source": [
    "results = client.query('SELECT label, sr, rate, gs, load, ts FROM testdb.autogen.gear_metrics')"
   ]
  },
  {
   "cell_type": "code",
   "execution_count": 185,
   "metadata": {},
   "outputs": [
    {
     "data": {
      "text/plain": [
       "265"
      ]
     },
     "execution_count": 185,
     "metadata": {},
     "output_type": "execute_result"
    }
   ],
   "source": [
    "len(results.raw['series'][0]['values'])"
   ]
  },
  {
   "cell_type": "code",
   "execution_count": 47,
   "metadata": {},
   "outputs": [
    {
     "data": {
      "text/plain": [
       "[['2020-03-25T06:56:53.605Z', 0, 97656, 25, -0.3707241, '270.0', 268],\n",
       " ['2020-03-25T06:56:53.655Z', 0, 97656, 25, -0.2623347, '270.0', 269],\n",
       " ['2020-03-25T06:56:53.705Z', 0, 97656, 25, -0.2415872, '270.0', 270],\n",
       " ['2020-03-25T06:56:53.754Z', 0, 97656, 25, 0.1525302, '270.0', 271],\n",
       " ['2020-03-25T06:56:53.803Z', 0, 97656, 25, -0.1951451, '270.0', 272],\n",
       " ['2020-03-25T06:56:53.852Z', 0, 97656, 25, -0.04591288, '270.0', 273],\n",
       " ['2020-03-25T06:56:53.9Z', 0, 97656, 25, 0.7581841, '270.0', 274],\n",
       " ['2020-03-25T06:56:53.966Z', 0, 97656, 25, 1.201549, '270.0', 275],\n",
       " ['2020-03-25T06:56:54.019Z', 0, 97656, 25, 0.6854323, '270.0', 276],\n",
       " ['2020-03-25T06:56:54.071Z', 0, 97656, 25, -0.462476, '270.0', 277]]"
      ]
     },
     "execution_count": 47,
     "metadata": {},
     "output_type": "execute_result"
    }
   ],
   "source": [
    "results.raw['series'][0]['values'][-10:]"
   ]
  },
  {
   "cell_type": "raw",
   "metadata": {},
   "source": [
    "points = results.get_points()"
   ]
  },
  {
   "cell_type": "code",
   "execution_count": null,
   "metadata": {},
   "outputs": [],
   "source": [
    "for point in points:\n",
    "    print(\"Time: {}, gs: {}\".format(point['timestamp'], point['gs']))"
   ]
  },
  {
   "cell_type": "markdown",
   "metadata": {},
   "source": [
    "## Offline Training\n",
    "In this section we visualize the data ingested from the Java data generator. "
   ]
  },
  {
   "cell_type": "code",
   "execution_count": null,
   "metadata": {},
   "outputs": [],
   "source": [
    "import pandas as pd\n",
    "import tensorflow as tf\n",
    "from sklearn.model_selection import train_test_split\n",
    "\n",
    "tf.logging.set_verbosity(tf.logging.ERROR)"
   ]
  },
  {
   "cell_type": "code",
   "execution_count": null,
   "metadata": {},
   "outputs": [],
   "source": [
    "def create_csv():\n",
    "\tfile = open('data/offline-train-BIG.txt','r')\n",
    "\n",
    "\twith open('data/data.csv','w') as fcsv:\n",
    "\t\tfcsv.write(\"Metric,Timestamp,Label,SR,Rate,GR,Load\\n\")\n",
    "\t\tfor f in file:\n",
    "\t\t\tl= f.split(',')\n",
    "\n",
    "\t\t\tm = l[0].split(\":\")[1].split('\"')[1]\t\n",
    "\t\t\t#metric.append(m)\n",
    "\n",
    "\t\t\tt =l[1].split(\":\")[1]\n",
    "\t\t\t#timestamp.append(t)\n",
    "\n",
    "\t\t\tla =l[2].split(\":\")[1]\n",
    "\t\t\t#label.append(la)\n",
    "\n",
    "\t\t\ts = l[3].split(\":\")[1]\n",
    "\t\t\t#sr.append(s)\n",
    "\n",
    "\t\t\tr = l[4].split(\":\")[1]\n",
    "\t\t\t#rate.append(r)\n",
    "\n",
    "\t\t\tg = l[5].split(\":\")[1]\n",
    "\t\t\t#gr.append(g)\n",
    "\n",
    "\t\t\tlo = l[6].split(\":\")[1].split('\"')[1]\t\n",
    "\t\t\t#load.append(lo)\n",
    "\t\t\tfcsv.write(m+\",\"+t+\",\"+la+\",\"+s+\",\"+r+\",\"+g+\",\"+lo+\"\\n\")"
   ]
  },
  {
   "cell_type": "code",
   "execution_count": null,
   "metadata": {},
   "outputs": [],
   "source": [
    "# Convert the JSON to CSV\n",
    "create_csv()"
   ]
  },
  {
   "cell_type": "code",
   "execution_count": null,
   "metadata": {},
   "outputs": [],
   "source": [
    "# We will train the model offline in a py file"
   ]
  },
  {
   "cell_type": "markdown",
   "metadata": {},
   "source": [
    "## Classify"
   ]
  },
  {
   "cell_type": "code",
   "execution_count": 7,
   "metadata": {},
   "outputs": [],
   "source": [
    "import pandas as pd\n",
    "import tensorflow as tf\n",
    "from sklearn.model_selection import train_test_split\n",
    "import numpy as np"
   ]
  },
  {
   "cell_type": "code",
   "execution_count": 6,
   "metadata": {},
   "outputs": [],
   "source": [
    "results = client.query(\n",
    "        'SELECT  * FROM timeseriesdb.autogen.gear_metrics limit 1')"
   ]
  },
  {
   "cell_type": "code",
   "execution_count": 7,
   "metadata": {},
   "outputs": [
    {
     "data": {
      "text/plain": [
       "{'statement_id': 0}"
      ]
     },
     "execution_count": 7,
     "metadata": {},
     "output_type": "execute_result"
    }
   ],
   "source": [
    "results.raw"
   ]
  },
  {
   "cell_type": "code",
   "execution_count": 73,
   "metadata": {},
   "outputs": [
    {
     "data": {
      "text/plain": [
       "list"
      ]
     },
     "execution_count": 73,
     "metadata": {},
     "output_type": "execute_result"
    }
   ],
   "source": [
    "type(results.raw['series'][0]['values'][-1])"
   ]
  },
  {
   "cell_type": "code",
   "execution_count": 140,
   "metadata": {},
   "outputs": [],
   "source": [
    "mins = 1"
   ]
  },
  {
   "cell_type": "code",
   "execution_count": 8,
   "metadata": {},
   "outputs": [],
   "source": [
    "data_to_classify = results.raw['series'][0]['values'][0:10]"
   ]
  },
  {
   "cell_type": "code",
   "execution_count": 9,
   "metadata": {},
   "outputs": [
    {
     "name": "stdout",
     "output_type": "stream",
     "text": [
      "    Metric  Timestamp  Label       SR  Rate        GR   Load\n",
      "0  offline          0      0  97656.0  25.0  0.840756  270.0\n",
      "1  offline          1      0  97656.0  25.0  0.515243  270.0\n",
      "2  offline          2      0  97656.0  25.0 -0.038345  270.0\n",
      "3  offline          3      0  97656.0  25.0  1.184862  270.0\n",
      "4  offline          4      0  97656.0  25.0  0.849715  270.0\n",
      "<class 'pandas.core.frame.DataFrame'>\n"
     ]
    }
   ],
   "source": [
    "gear_data=pd.read_csv(\"data/data_predict.csv\")\n",
    "print(gear_data.head())\n",
    "\n",
    "cols_to_norm = ['SR', 'GR','Load']\n",
    "\n",
    "gear_data[cols_to_norm] = gear_data[cols_to_norm].apply(lambda x: (x - x.min()) / (x.max() - x.min()))\n",
    "\n",
    "sr = tf.feature_column.numeric_column('SR')\n",
    "rate = tf.feature_column.numeric_column('Rate')\n",
    "gr = tf.feature_column.numeric_column('GR')\n",
    "load = tf.feature_column.numeric_column('Load')\n",
    "\n",
    "print(type(gear_data))"
   ]
  },
  {
   "cell_type": "code",
   "execution_count": 117,
   "metadata": {},
   "outputs": [
    {
     "name": "stdout",
     "output_type": "stream",
     "text": [
      "SELECT label, prediction FROM timeseriesdb.autogen.labeled_data\n"
     ]
    }
   ],
   "source": [
    "query = \"SELECT label, prediction FROM timeseriesdb.autogen.labeled_data\"\n",
    "print(query)"
   ]
  },
  {
   "cell_type": "code",
   "execution_count": 120,
   "metadata": {},
   "outputs": [
    {
     "name": "stdout",
     "output_type": "stream",
     "text": [
      "SELECT label, prediction FROM timeseriesdb.autogen.labeled_data where time > '2020-03-27 22:54:54.825002'\n"
     ]
    }
   ],
   "source": [
    "query = \"SELECT label, prediction FROM timeseriesdb.autogen.labeled_data where time > '{}'\".format(datetime.datetime.utcnow() - datetime.timedelta(minutes=5))\n",
    "print(query)"
   ]
  },
  {
   "cell_type": "code",
   "execution_count": 121,
   "metadata": {},
   "outputs": [],
   "source": [
    "classifications = client.query(query)"
   ]
  },
  {
   "cell_type": "code",
   "execution_count": 122,
   "metadata": {},
   "outputs": [],
   "source": [
    "data = classifications.raw['series'][0]['values']"
   ]
  },
  {
   "cell_type": "code",
   "execution_count": 123,
   "metadata": {},
   "outputs": [
    {
     "data": {
      "text/plain": [
       "[['2020-03-27T22:54:57Z', 0, 0],\n",
       " ['2020-03-27T22:54:58Z', 0, 0],\n",
       " ['2020-03-27T22:55:08Z', 0, 0],\n",
       " ['2020-03-27T22:55:09Z', 0, 0],\n",
       " ['2020-03-27T22:55:19Z', 0, 0],\n",
       " ['2020-03-27T22:55:20Z', 0, 0],\n",
       " ['2020-03-27T22:55:31Z', 0, 0],\n",
       " ['2020-03-27T22:55:32Z', 0, 0],\n",
       " ['2020-03-27T22:55:42Z', 0, 0],\n",
       " ['2020-03-27T22:55:43Z', 0, 0],\n",
       " ['2020-03-27T22:55:54Z', 0, 0],\n",
       " ['2020-03-27T22:55:55Z', 0, 0],\n",
       " ['2020-03-27T22:56:05Z', 0, 0],\n",
       " ['2020-03-27T22:56:06Z', 0, 0],\n",
       " ['2020-03-27T22:56:16Z', 0, 0],\n",
       " ['2020-03-27T22:56:17Z', 0, 0],\n",
       " ['2020-03-27T22:56:27Z', 0, 0],\n",
       " ['2020-03-27T22:56:28Z', 0, 0],\n",
       " ['2020-03-27T22:56:39Z', 0, 0],\n",
       " ['2020-03-27T22:56:40Z', 0, 0],\n",
       " ['2020-03-27T22:56:50Z', 0, 0],\n",
       " ['2020-03-27T22:56:51Z', 0, 0],\n",
       " ['2020-03-27T22:57:02Z', 0, 0],\n",
       " ['2020-03-27T22:57:13Z', 0, 0],\n",
       " ['2020-03-27T22:57:14Z', 0, 0],\n",
       " ['2020-03-27T22:57:25Z', 0, 0],\n",
       " ['2020-03-27T22:57:36Z', 0, 0],\n",
       " ['2020-03-27T22:57:37Z', 0, 0],\n",
       " ['2020-03-27T22:57:48Z', 0, 0],\n",
       " ['2020-03-27T22:57:59Z', 0, 0],\n",
       " ['2020-03-27T22:58:00Z', 0, 0],\n",
       " ['2020-03-27T22:58:10Z', 0, 0],\n",
       " ['2020-03-27T22:58:11Z', 0, 0],\n",
       " ['2020-03-27T22:58:22Z', 0, 0],\n",
       " ['2020-03-27T22:58:34Z', 0, 0],\n",
       " ['2020-03-27T22:58:35Z', 0, 0],\n",
       " ['2020-03-27T22:58:47Z', 0, 0],\n",
       " ['2020-03-27T22:58:48Z', 0, 0],\n",
       " ['2020-03-27T22:58:59Z', 0, 0],\n",
       " ['2020-03-27T22:59:10Z', 2, 0],\n",
       " ['2020-03-27T22:59:11Z', 0, 0],\n",
       " ['2020-03-27T22:59:22Z', 2, 0],\n",
       " ['2020-03-27T22:59:23Z', 2, 0],\n",
       " ['2020-03-27T22:59:34Z', 0, 0],\n",
       " ['2020-03-27T22:59:35Z', 0, 0],\n",
       " ['2020-03-27T22:59:46Z', 0, 0],\n",
       " ['2020-03-27T22:59:47Z', 0, 0]]"
      ]
     },
     "execution_count": 123,
     "metadata": {},
     "output_type": "execute_result"
    }
   ],
   "source": [
    "data"
   ]
  },
  {
   "cell_type": "code",
   "execution_count": 94,
   "metadata": {},
   "outputs": [],
   "source": [
    "data = np.array(data)\n",
    "df = pd.DataFrame(data=data, columns=[\"time\", \"label\", \"prediction\"])"
   ]
  },
  {
   "cell_type": "code",
   "execution_count": 53,
   "metadata": {},
   "outputs": [
    {
     "data": {
      "text/html": [
       "<div>\n",
       "<style scoped>\n",
       "    .dataframe tbody tr th:only-of-type {\n",
       "        vertical-align: middle;\n",
       "    }\n",
       "\n",
       "    .dataframe tbody tr th {\n",
       "        vertical-align: top;\n",
       "    }\n",
       "\n",
       "    .dataframe thead th {\n",
       "        text-align: right;\n",
       "    }\n",
       "</style>\n",
       "<table border=\"1\" class=\"dataframe\">\n",
       "  <thead>\n",
       "    <tr style=\"text-align: right;\">\n",
       "      <th></th>\n",
       "      <th>time</th>\n",
       "      <th>label</th>\n",
       "      <th>prediction</th>\n",
       "    </tr>\n",
       "  </thead>\n",
       "  <tbody>\n",
       "    <tr>\n",
       "      <th>0</th>\n",
       "      <td>2020-03-27T21:50:29Z</td>\n",
       "      <td>0</td>\n",
       "      <td>0</td>\n",
       "    </tr>\n",
       "    <tr>\n",
       "      <th>1</th>\n",
       "      <td>2020-03-27T21:50:30Z</td>\n",
       "      <td>0</td>\n",
       "      <td>0</td>\n",
       "    </tr>\n",
       "    <tr>\n",
       "      <th>2</th>\n",
       "      <td>2020-03-27T21:50:31Z</td>\n",
       "      <td>0</td>\n",
       "      <td>0</td>\n",
       "    </tr>\n",
       "    <tr>\n",
       "      <th>3</th>\n",
       "      <td>2020-03-27T21:50:32Z</td>\n",
       "      <td>0</td>\n",
       "      <td>0</td>\n",
       "    </tr>\n",
       "    <tr>\n",
       "      <th>4</th>\n",
       "      <td>2020-03-27T21:50:33Z</td>\n",
       "      <td>0</td>\n",
       "      <td>0</td>\n",
       "    </tr>\n",
       "    <tr>\n",
       "      <th>5</th>\n",
       "      <td>2020-03-27T21:50:34Z</td>\n",
       "      <td>0</td>\n",
       "      <td>0</td>\n",
       "    </tr>\n",
       "    <tr>\n",
       "      <th>6</th>\n",
       "      <td>2020-03-27T21:50:35Z</td>\n",
       "      <td>0</td>\n",
       "      <td>0</td>\n",
       "    </tr>\n",
       "    <tr>\n",
       "      <th>7</th>\n",
       "      <td>2020-03-27T21:50:36Z</td>\n",
       "      <td>0</td>\n",
       "      <td>0</td>\n",
       "    </tr>\n",
       "    <tr>\n",
       "      <th>8</th>\n",
       "      <td>2020-03-27T21:50:37Z</td>\n",
       "      <td>0</td>\n",
       "      <td>0</td>\n",
       "    </tr>\n",
       "    <tr>\n",
       "      <th>9</th>\n",
       "      <td>2020-03-27T21:50:38Z</td>\n",
       "      <td>0</td>\n",
       "      <td>0</td>\n",
       "    </tr>\n",
       "    <tr>\n",
       "      <th>10</th>\n",
       "      <td>2020-03-27T21:50:39Z</td>\n",
       "      <td>0</td>\n",
       "      <td>0</td>\n",
       "    </tr>\n",
       "    <tr>\n",
       "      <th>11</th>\n",
       "      <td>2020-03-27T21:50:40Z</td>\n",
       "      <td>0</td>\n",
       "      <td>0</td>\n",
       "    </tr>\n",
       "    <tr>\n",
       "      <th>12</th>\n",
       "      <td>2020-03-27T21:50:41Z</td>\n",
       "      <td>0</td>\n",
       "      <td>0</td>\n",
       "    </tr>\n",
       "    <tr>\n",
       "      <th>13</th>\n",
       "      <td>2020-03-27T21:50:42Z</td>\n",
       "      <td>0</td>\n",
       "      <td>0</td>\n",
       "    </tr>\n",
       "    <tr>\n",
       "      <th>14</th>\n",
       "      <td>2020-03-27T21:50:43Z</td>\n",
       "      <td>0</td>\n",
       "      <td>0</td>\n",
       "    </tr>\n",
       "    <tr>\n",
       "      <th>15</th>\n",
       "      <td>2020-03-27T21:50:44Z</td>\n",
       "      <td>0</td>\n",
       "      <td>0</td>\n",
       "    </tr>\n",
       "    <tr>\n",
       "      <th>16</th>\n",
       "      <td>2020-03-27T21:50:45Z</td>\n",
       "      <td>0</td>\n",
       "      <td>0</td>\n",
       "    </tr>\n",
       "    <tr>\n",
       "      <th>17</th>\n",
       "      <td>2020-03-27T21:50:46Z</td>\n",
       "      <td>0</td>\n",
       "      <td>0</td>\n",
       "    </tr>\n",
       "    <tr>\n",
       "      <th>18</th>\n",
       "      <td>2020-03-27T21:50:47Z</td>\n",
       "      <td>0</td>\n",
       "      <td>0</td>\n",
       "    </tr>\n",
       "    <tr>\n",
       "      <th>19</th>\n",
       "      <td>2020-03-27T21:50:48Z</td>\n",
       "      <td>0</td>\n",
       "      <td>0</td>\n",
       "    </tr>\n",
       "    <tr>\n",
       "      <th>20</th>\n",
       "      <td>2020-03-27T21:50:49Z</td>\n",
       "      <td>0</td>\n",
       "      <td>0</td>\n",
       "    </tr>\n",
       "    <tr>\n",
       "      <th>21</th>\n",
       "      <td>2020-03-27T21:50:50Z</td>\n",
       "      <td>0</td>\n",
       "      <td>0</td>\n",
       "    </tr>\n",
       "    <tr>\n",
       "      <th>22</th>\n",
       "      <td>2020-03-27T21:50:51Z</td>\n",
       "      <td>0</td>\n",
       "      <td>0</td>\n",
       "    </tr>\n",
       "    <tr>\n",
       "      <th>23</th>\n",
       "      <td>2020-03-27T21:50:52Z</td>\n",
       "      <td>0</td>\n",
       "      <td>0</td>\n",
       "    </tr>\n",
       "    <tr>\n",
       "      <th>24</th>\n",
       "      <td>2020-03-27T21:50:53Z</td>\n",
       "      <td>0</td>\n",
       "      <td>0</td>\n",
       "    </tr>\n",
       "    <tr>\n",
       "      <th>25</th>\n",
       "      <td>2020-03-27T21:50:54Z</td>\n",
       "      <td>0</td>\n",
       "      <td>0</td>\n",
       "    </tr>\n",
       "    <tr>\n",
       "      <th>26</th>\n",
       "      <td>2020-03-27T21:50:56Z</td>\n",
       "      <td>0</td>\n",
       "      <td>0</td>\n",
       "    </tr>\n",
       "    <tr>\n",
       "      <th>27</th>\n",
       "      <td>2020-03-27T21:50:57Z</td>\n",
       "      <td>0</td>\n",
       "      <td>0</td>\n",
       "    </tr>\n",
       "    <tr>\n",
       "      <th>28</th>\n",
       "      <td>2020-03-27T21:50:58Z</td>\n",
       "      <td>0</td>\n",
       "      <td>0</td>\n",
       "    </tr>\n",
       "    <tr>\n",
       "      <th>29</th>\n",
       "      <td>2020-03-27T21:50:59Z</td>\n",
       "      <td>0</td>\n",
       "      <td>0</td>\n",
       "    </tr>\n",
       "    <tr>\n",
       "      <th>...</th>\n",
       "      <td>...</td>\n",
       "      <td>...</td>\n",
       "      <td>...</td>\n",
       "    </tr>\n",
       "    <tr>\n",
       "      <th>417</th>\n",
       "      <td>2020-03-27T22:15:49Z</td>\n",
       "      <td>0</td>\n",
       "      <td>0</td>\n",
       "    </tr>\n",
       "    <tr>\n",
       "      <th>418</th>\n",
       "      <td>2020-03-27T22:15:50Z</td>\n",
       "      <td>0</td>\n",
       "      <td>0</td>\n",
       "    </tr>\n",
       "    <tr>\n",
       "      <th>419</th>\n",
       "      <td>2020-03-27T22:16:01Z</td>\n",
       "      <td>0</td>\n",
       "      <td>0</td>\n",
       "    </tr>\n",
       "    <tr>\n",
       "      <th>420</th>\n",
       "      <td>2020-03-27T22:16:02Z</td>\n",
       "      <td>0</td>\n",
       "      <td>0</td>\n",
       "    </tr>\n",
       "    <tr>\n",
       "      <th>421</th>\n",
       "      <td>2020-03-27T22:16:17Z</td>\n",
       "      <td>0</td>\n",
       "      <td>0</td>\n",
       "    </tr>\n",
       "    <tr>\n",
       "      <th>422</th>\n",
       "      <td>2020-03-27T22:16:18Z</td>\n",
       "      <td>0</td>\n",
       "      <td>0</td>\n",
       "    </tr>\n",
       "    <tr>\n",
       "      <th>423</th>\n",
       "      <td>2020-03-27T22:16:31Z</td>\n",
       "      <td>0</td>\n",
       "      <td>0</td>\n",
       "    </tr>\n",
       "    <tr>\n",
       "      <th>424</th>\n",
       "      <td>2020-03-27T22:16:32Z</td>\n",
       "      <td>0</td>\n",
       "      <td>0</td>\n",
       "    </tr>\n",
       "    <tr>\n",
       "      <th>425</th>\n",
       "      <td>2020-03-27T22:16:45Z</td>\n",
       "      <td>0</td>\n",
       "      <td>0</td>\n",
       "    </tr>\n",
       "    <tr>\n",
       "      <th>426</th>\n",
       "      <td>2020-03-27T22:16:46Z</td>\n",
       "      <td>0</td>\n",
       "      <td>0</td>\n",
       "    </tr>\n",
       "    <tr>\n",
       "      <th>427</th>\n",
       "      <td>2020-03-27T22:16:59Z</td>\n",
       "      <td>0</td>\n",
       "      <td>0</td>\n",
       "    </tr>\n",
       "    <tr>\n",
       "      <th>428</th>\n",
       "      <td>2020-03-27T22:17:00Z</td>\n",
       "      <td>0</td>\n",
       "      <td>0</td>\n",
       "    </tr>\n",
       "    <tr>\n",
       "      <th>429</th>\n",
       "      <td>2020-03-27T22:17:15Z</td>\n",
       "      <td>0</td>\n",
       "      <td>0</td>\n",
       "    </tr>\n",
       "    <tr>\n",
       "      <th>430</th>\n",
       "      <td>2020-03-27T22:17:16Z</td>\n",
       "      <td>0</td>\n",
       "      <td>0</td>\n",
       "    </tr>\n",
       "    <tr>\n",
       "      <th>431</th>\n",
       "      <td>2020-03-27T22:17:30Z</td>\n",
       "      <td>2</td>\n",
       "      <td>0</td>\n",
       "    </tr>\n",
       "    <tr>\n",
       "      <th>432</th>\n",
       "      <td>2020-03-27T22:17:31Z</td>\n",
       "      <td>2</td>\n",
       "      <td>0</td>\n",
       "    </tr>\n",
       "    <tr>\n",
       "      <th>433</th>\n",
       "      <td>2020-03-27T22:17:46Z</td>\n",
       "      <td>2</td>\n",
       "      <td>0</td>\n",
       "    </tr>\n",
       "    <tr>\n",
       "      <th>434</th>\n",
       "      <td>2020-03-27T22:18:00Z</td>\n",
       "      <td>0</td>\n",
       "      <td>0</td>\n",
       "    </tr>\n",
       "    <tr>\n",
       "      <th>435</th>\n",
       "      <td>2020-03-27T22:18:01Z</td>\n",
       "      <td>0</td>\n",
       "      <td>0</td>\n",
       "    </tr>\n",
       "    <tr>\n",
       "      <th>436</th>\n",
       "      <td>2020-03-27T22:18:14Z</td>\n",
       "      <td>0</td>\n",
       "      <td>0</td>\n",
       "    </tr>\n",
       "    <tr>\n",
       "      <th>437</th>\n",
       "      <td>2020-03-27T22:18:15Z</td>\n",
       "      <td>0</td>\n",
       "      <td>0</td>\n",
       "    </tr>\n",
       "    <tr>\n",
       "      <th>438</th>\n",
       "      <td>2020-03-27T22:18:27Z</td>\n",
       "      <td>0</td>\n",
       "      <td>0</td>\n",
       "    </tr>\n",
       "    <tr>\n",
       "      <th>439</th>\n",
       "      <td>2020-03-27T22:18:28Z</td>\n",
       "      <td>0</td>\n",
       "      <td>0</td>\n",
       "    </tr>\n",
       "    <tr>\n",
       "      <th>440</th>\n",
       "      <td>2020-03-27T22:18:29Z</td>\n",
       "      <td>0</td>\n",
       "      <td>0</td>\n",
       "    </tr>\n",
       "    <tr>\n",
       "      <th>441</th>\n",
       "      <td>2020-03-27T22:18:44Z</td>\n",
       "      <td>0</td>\n",
       "      <td>0</td>\n",
       "    </tr>\n",
       "    <tr>\n",
       "      <th>442</th>\n",
       "      <td>2020-03-27T22:18:45Z</td>\n",
       "      <td>0</td>\n",
       "      <td>0</td>\n",
       "    </tr>\n",
       "    <tr>\n",
       "      <th>443</th>\n",
       "      <td>2020-03-27T22:18:58Z</td>\n",
       "      <td>2</td>\n",
       "      <td>0</td>\n",
       "    </tr>\n",
       "    <tr>\n",
       "      <th>444</th>\n",
       "      <td>2020-03-27T22:18:59Z</td>\n",
       "      <td>2</td>\n",
       "      <td>0</td>\n",
       "    </tr>\n",
       "    <tr>\n",
       "      <th>445</th>\n",
       "      <td>2020-03-27T22:19:12Z</td>\n",
       "      <td>0</td>\n",
       "      <td>0</td>\n",
       "    </tr>\n",
       "    <tr>\n",
       "      <th>446</th>\n",
       "      <td>2020-03-27T22:19:13Z</td>\n",
       "      <td>0</td>\n",
       "      <td>0</td>\n",
       "    </tr>\n",
       "  </tbody>\n",
       "</table>\n",
       "<p>447 rows × 3 columns</p>\n",
       "</div>"
      ],
      "text/plain": [
       "                     time label prediction\n",
       "0    2020-03-27T21:50:29Z     0          0\n",
       "1    2020-03-27T21:50:30Z     0          0\n",
       "2    2020-03-27T21:50:31Z     0          0\n",
       "3    2020-03-27T21:50:32Z     0          0\n",
       "4    2020-03-27T21:50:33Z     0          0\n",
       "5    2020-03-27T21:50:34Z     0          0\n",
       "6    2020-03-27T21:50:35Z     0          0\n",
       "7    2020-03-27T21:50:36Z     0          0\n",
       "8    2020-03-27T21:50:37Z     0          0\n",
       "9    2020-03-27T21:50:38Z     0          0\n",
       "10   2020-03-27T21:50:39Z     0          0\n",
       "11   2020-03-27T21:50:40Z     0          0\n",
       "12   2020-03-27T21:50:41Z     0          0\n",
       "13   2020-03-27T21:50:42Z     0          0\n",
       "14   2020-03-27T21:50:43Z     0          0\n",
       "15   2020-03-27T21:50:44Z     0          0\n",
       "16   2020-03-27T21:50:45Z     0          0\n",
       "17   2020-03-27T21:50:46Z     0          0\n",
       "18   2020-03-27T21:50:47Z     0          0\n",
       "19   2020-03-27T21:50:48Z     0          0\n",
       "20   2020-03-27T21:50:49Z     0          0\n",
       "21   2020-03-27T21:50:50Z     0          0\n",
       "22   2020-03-27T21:50:51Z     0          0\n",
       "23   2020-03-27T21:50:52Z     0          0\n",
       "24   2020-03-27T21:50:53Z     0          0\n",
       "25   2020-03-27T21:50:54Z     0          0\n",
       "26   2020-03-27T21:50:56Z     0          0\n",
       "27   2020-03-27T21:50:57Z     0          0\n",
       "28   2020-03-27T21:50:58Z     0          0\n",
       "29   2020-03-27T21:50:59Z     0          0\n",
       "..                    ...   ...        ...\n",
       "417  2020-03-27T22:15:49Z     0          0\n",
       "418  2020-03-27T22:15:50Z     0          0\n",
       "419  2020-03-27T22:16:01Z     0          0\n",
       "420  2020-03-27T22:16:02Z     0          0\n",
       "421  2020-03-27T22:16:17Z     0          0\n",
       "422  2020-03-27T22:16:18Z     0          0\n",
       "423  2020-03-27T22:16:31Z     0          0\n",
       "424  2020-03-27T22:16:32Z     0          0\n",
       "425  2020-03-27T22:16:45Z     0          0\n",
       "426  2020-03-27T22:16:46Z     0          0\n",
       "427  2020-03-27T22:16:59Z     0          0\n",
       "428  2020-03-27T22:17:00Z     0          0\n",
       "429  2020-03-27T22:17:15Z     0          0\n",
       "430  2020-03-27T22:17:16Z     0          0\n",
       "431  2020-03-27T22:17:30Z     2          0\n",
       "432  2020-03-27T22:17:31Z     2          0\n",
       "433  2020-03-27T22:17:46Z     2          0\n",
       "434  2020-03-27T22:18:00Z     0          0\n",
       "435  2020-03-27T22:18:01Z     0          0\n",
       "436  2020-03-27T22:18:14Z     0          0\n",
       "437  2020-03-27T22:18:15Z     0          0\n",
       "438  2020-03-27T22:18:27Z     0          0\n",
       "439  2020-03-27T22:18:28Z     0          0\n",
       "440  2020-03-27T22:18:29Z     0          0\n",
       "441  2020-03-27T22:18:44Z     0          0\n",
       "442  2020-03-27T22:18:45Z     0          0\n",
       "443  2020-03-27T22:18:58Z     2          0\n",
       "444  2020-03-27T22:18:59Z     2          0\n",
       "445  2020-03-27T22:19:12Z     0          0\n",
       "446  2020-03-27T22:19:13Z     0          0\n",
       "\n",
       "[447 rows x 3 columns]"
      ]
     },
     "execution_count": 53,
     "metadata": {},
     "output_type": "execute_result"
    }
   ],
   "source": [
    "df"
   ]
  },
  {
   "cell_type": "code",
   "execution_count": 43,
   "metadata": {},
   "outputs": [],
   "source": [
    "df = df.drop(['time'], axis=1)"
   ]
  },
  {
   "cell_type": "code",
   "execution_count": 49,
   "metadata": {},
   "outputs": [],
   "source": [
    "labels = df[\"label\"].to_numpy\n",
    "predictions = df[\"prediction\"].to_numpy"
   ]
  },
  {
   "cell_type": "code",
   "execution_count": 47,
   "metadata": {
    "scrolled": true
   },
   "outputs": [
    {
     "data": {
      "text/plain": [
       "<bound method IndexOpsMixin.to_numpy of 0      0\n",
       "1      0\n",
       "2      0\n",
       "3      0\n",
       "4      0\n",
       "5      0\n",
       "6      0\n",
       "7      0\n",
       "8      0\n",
       "9      0\n",
       "10     0\n",
       "11     0\n",
       "12     0\n",
       "13     0\n",
       "14     0\n",
       "15     0\n",
       "16     0\n",
       "17     0\n",
       "18     0\n",
       "19     0\n",
       "20     0\n",
       "21     0\n",
       "22     0\n",
       "23     0\n",
       "24     0\n",
       "25     0\n",
       "26     0\n",
       "27     0\n",
       "28     0\n",
       "29     0\n",
       "      ..\n",
       "305    0\n",
       "306    0\n",
       "307    0\n",
       "308    0\n",
       "309    0\n",
       "310    0\n",
       "311    0\n",
       "312    0\n",
       "313    0\n",
       "314    0\n",
       "315    0\n",
       "316    0\n",
       "317    0\n",
       "318    0\n",
       "319    0\n",
       "320    0\n",
       "321    0\n",
       "322    0\n",
       "323    0\n",
       "324    0\n",
       "325    0\n",
       "326    0\n",
       "327    0\n",
       "328    0\n",
       "329    0\n",
       "330    0\n",
       "331    0\n",
       "332    0\n",
       "333    0\n",
       "334    0\n",
       "Name: label, Length: 335, dtype: object>"
      ]
     },
     "execution_count": 47,
     "metadata": {},
     "output_type": "execute_result"
    }
   ],
   "source": [
    "labels"
   ]
  },
  {
   "cell_type": "code",
   "execution_count": 156,
   "metadata": {},
   "outputs": [],
   "source": [
    "    query = \"SELECT  sr, gs, load, ts, label FROM timeseriesdb.autogen.gear_metrics where ts > 0\"\n",
    "    results = client.query(query)\n",
    "    data = results.raw['series'][0]['values']\n",
    "    data = np.array(data)\n",
    "    df = pd.DataFrame(data=data, columns=[\n",
    "        \"TIME\", \"SR\", \"GR\", \"Load\", 'ts', 'label'])\n"
   ]
  },
  {
   "cell_type": "code",
   "execution_count": 173,
   "metadata": {},
   "outputs": [
    {
     "data": {
      "text/plain": [
       "ResultSet({})"
      ]
     },
     "execution_count": 173,
     "metadata": {},
     "output_type": "execute_result"
    }
   ],
   "source": [
    "    query = \"SELECT  prediction, label FROM timeseriesdb.autogen.labeled_data where prediction > 0\"\n",
    "    results = client.query(query)\n",
    "    results"
   ]
  },
  {
   "cell_type": "markdown",
   "metadata": {},
   "source": [
    "# XGBoost Accuracy"
   ]
  },
  {
   "cell_type": "code",
   "execution_count": 210,
   "metadata": {},
   "outputs": [],
   "source": [
    "import sklearn\n",
    "from sklearn import metrics\n",
    "mins = 15\n",
    "query = \"SELECT label, prediction FROM timeseriesdb.autogen.labeled_data where time > '{}'\".format(\n",
    "        datetime.datetime.utcnow() - datetime.timedelta(minutes=mins))\n",
    "\n",
    "results = client.query(query)\n",
    "data = results.raw['series'][0]['values']"
   ]
  },
  {
   "cell_type": "code",
   "execution_count": 211,
   "metadata": {},
   "outputs": [],
   "source": [
    "df = pd.DataFrame(data=data, columns=[\n",
    "    \"time\", \"label\", \"prediction\"])\n",
    "\n",
    "labels = df['label'].astype(str).astype(int).to_numpy()\n",
    "predictions = df['prediction'].astype(str).astype(int).to_numpy()"
   ]
  },
  {
   "cell_type": "code",
   "execution_count": 212,
   "metadata": {},
   "outputs": [
    {
     "data": {
      "text/plain": [
       "0.7253521126760564"
      ]
     },
     "execution_count": 212,
     "metadata": {},
     "output_type": "execute_result"
    }
   ],
   "source": [
    "sklearn.metrics.accuracy_score(labels, predictions, normalize=True, sample_weight=None)"
   ]
  },
  {
   "cell_type": "code",
   "execution_count": null,
   "metadata": {},
   "outputs": [],
   "source": []
  }
 ],
 "metadata": {
  "kernelspec": {
   "display_name": "Python 3",
   "language": "python",
   "name": "python3"
  },
  "language_info": {
   "codemirror_mode": {
    "name": "ipython",
    "version": 3
   },
   "file_extension": ".py",
   "mimetype": "text/x-python",
   "name": "python",
   "nbconvert_exporter": "python",
   "pygments_lexer": "ipython3",
   "version": "3.7.6"
  }
 },
 "nbformat": 4,
 "nbformat_minor": 2
}
