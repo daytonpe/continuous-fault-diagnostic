{
 "cells": [
  {
   "cell_type": "markdown",
   "metadata": {},
   "source": [
    "# CS6301 IOT Project 2\n",
    "\n",
    "## Fault Diagnostic Tool (Read Side)\n",
    "\n",
    "This side of the application ingests data from the data generator and performs data analysis on it."
   ]
  },
  {
   "cell_type": "markdown",
   "metadata": {},
   "source": [
    "## Connect to Database"
   ]
  },
  {
   "cell_type": "code",
   "execution_count": 1,
   "metadata": {},
   "outputs": [
    {
     "name": "stdout",
     "output_type": "stream",
     "text": [
      "Requirement already satisfied: influxdb in /Users/daytonpe/anaconda3/lib/python3.7/site-packages (5.2.3)\n",
      "Requirement already satisfied: pytz in /Users/daytonpe/anaconda3/lib/python3.7/site-packages (from influxdb) (2018.9)\n",
      "Requirement already satisfied: requests>=2.17.0 in /Users/daytonpe/anaconda3/lib/python3.7/site-packages (from influxdb) (2.21.0)\n",
      "Requirement already satisfied: python-dateutil>=2.6.0 in /Users/daytonpe/anaconda3/lib/python3.7/site-packages (from influxdb) (2.8.0)\n",
      "Requirement already satisfied: six>=1.10.0 in /Users/daytonpe/anaconda3/lib/python3.7/site-packages (from influxdb) (1.12.0)\n",
      "Requirement already satisfied: urllib3<1.25,>=1.21.1 in /Users/daytonpe/anaconda3/lib/python3.7/site-packages (from requests>=2.17.0->influxdb) (1.24.1)\n",
      "Requirement already satisfied: idna<2.9,>=2.5 in /Users/daytonpe/anaconda3/lib/python3.7/site-packages (from requests>=2.17.0->influxdb) (2.8)\n",
      "Requirement already satisfied: certifi>=2017.4.17 in /Users/daytonpe/anaconda3/lib/python3.7/site-packages (from requests>=2.17.0->influxdb) (2019.9.11)\n",
      "Requirement already satisfied: chardet<3.1.0,>=3.0.2 in /Users/daytonpe/anaconda3/lib/python3.7/site-packages (from requests>=2.17.0->influxdb) (3.0.4)\n"
     ]
    }
   ],
   "source": [
    "!pip install influxdb"
   ]
  },
  {
   "cell_type": "code",
   "execution_count": 2,
   "metadata": {},
   "outputs": [],
   "source": [
    "from influxdb import InfluxDBClient\n",
    "import json"
   ]
  },
  {
   "cell_type": "code",
   "execution_count": 3,
   "metadata": {},
   "outputs": [],
   "source": [
    "client = InfluxDBClient(host='localhost', port=8086)"
   ]
  },
  {
   "cell_type": "code",
   "execution_count": 4,
   "metadata": {},
   "outputs": [],
   "source": [
    "# client.drop_database('fault-detector')"
   ]
  },
  {
   "cell_type": "code",
   "execution_count": 5,
   "metadata": {},
   "outputs": [
    {
     "data": {
      "text/plain": [
       "[{'name': '_internal'}, {'name': 'pyexample'}, {'name': 'timeseriesdb'}]"
      ]
     },
     "execution_count": 5,
     "metadata": {},
     "output_type": "execute_result"
    }
   ],
   "source": [
    "client.get_list_database()"
   ]
  },
  {
   "cell_type": "markdown",
   "metadata": {},
   "source": [
    "## Ingest Data (Example: Toothbrush)"
   ]
  },
  {
   "cell_type": "code",
   "execution_count": 6,
   "metadata": {},
   "outputs": [],
   "source": [
    "client.create_database('pyexample')"
   ]
  },
  {
   "cell_type": "code",
   "execution_count": 7,
   "metadata": {},
   "outputs": [],
   "source": [
    "client.switch_database('pyexample')"
   ]
  },
  {
   "cell_type": "code",
   "execution_count": 8,
   "metadata": {},
   "outputs": [],
   "source": [
    "json_body = [\n",
    "    {\n",
    "        \"measurement\": \"brushEvents\",\n",
    "        \"tags\": {\n",
    "            \"user\": \"Carol\",\n",
    "            \"brushId\": \"6c89f539-71c6-490d-a28d-6c5d84c0ee2f\"\n",
    "        },\n",
    "        \"time\": \"2020-03-28T8:01:00Z\",\n",
    "        \"fields\": {\n",
    "            \"duration\": 127\n",
    "        }\n",
    "    },\n",
    "    {\n",
    "        \"measurement\": \"brushEvents\",\n",
    "        \"tags\": {\n",
    "            \"user\": \"Carol\",\n",
    "            \"brushId\": \"6c89f539-71c6-490d-a28d-6c5d84c0ee2f\"\n",
    "        },\n",
    "        \"time\": \"2020-03-29T8:04:00Z\",\n",
    "        \"fields\": {\n",
    "            \"duration\": 132\n",
    "        }\n",
    "    },\n",
    "    {\n",
    "        \"measurement\": \"brushEvents\",\n",
    "        \"tags\": {\n",
    "            \"user\": \"Carol\",\n",
    "            \"brushId\": \"6c89f539-71c6-490d-a28d-6c5d84c0ee2f\"\n",
    "        },\n",
    "        \"time\": \"2020-03-30T8:02:00Z\",\n",
    "        \"fields\": {\n",
    "            \"duration\": 129\n",
    "        }\n",
    "    }\n",
    "]"
   ]
  },
  {
   "cell_type": "code",
   "execution_count": 9,
   "metadata": {},
   "outputs": [
    {
     "data": {
      "text/plain": [
       "True"
      ]
     },
     "execution_count": 9,
     "metadata": {},
     "output_type": "execute_result"
    }
   ],
   "source": [
    "client.write_points(json_body)"
   ]
  },
  {
   "cell_type": "code",
   "execution_count": 10,
   "metadata": {},
   "outputs": [],
   "source": [
    "results = client.query('SELECT \"duration\" FROM \"pyexample\".\"autogen\".\"brushEvents\" WHERE time > now() - 4d GROUP BY \"user\"')"
   ]
  },
  {
   "cell_type": "code",
   "execution_count": 11,
   "metadata": {},
   "outputs": [
    {
     "data": {
      "text/plain": [
       "[('brushEvents', {'user': 'Carol'})]"
      ]
     },
     "execution_count": 11,
     "metadata": {},
     "output_type": "execute_result"
    }
   ],
   "source": [
    "results.keys()"
   ]
  },
  {
   "cell_type": "code",
   "execution_count": 12,
   "metadata": {},
   "outputs": [],
   "source": [
    "points = results.get_points(tags={'user':'Carol'})"
   ]
  },
  {
   "cell_type": "code",
   "execution_count": 13,
   "metadata": {},
   "outputs": [
    {
     "name": "stdout",
     "output_type": "stream",
     "text": [
      "Time: 2020-03-28T08:01:00Z, Duration: 127\n",
      "Time: 2020-03-29T08:04:00Z, Duration: 132\n",
      "Time: 2020-03-30T08:02:00Z, Duration: 129\n"
     ]
    }
   ],
   "source": [
    "for point in points:\n",
    "    print(\"Time: %s, Duration: %i\" % (point['time'], point['duration']))"
   ]
  },
  {
   "cell_type": "code",
   "execution_count": 14,
   "metadata": {},
   "outputs": [
    {
     "name": "stdout",
     "output_type": "stream",
     "text": [
      "You've used your brush head for 388 seconds, more than the recommended amount! Time to replace your brush head!\n"
     ]
    }
   ],
   "source": [
    "results = client.query('SELECT \"duration\" FROM \"pyexample\".\"autogen\".\"brushEvents\" WHERE time > now() - 4d GROUP BY \"brushId\"')\n",
    "points = results.get_points(tags={'brushId': '6c89f539-71c6-490d-a28d-6c5d84c0ee2f'})\n",
    "brush_usage_total = 0\n",
    "for point in points:\n",
    "    brush_usage_total = brush_usage_total + point['duration']\n",
    "\n",
    "if brush_usage_total > 350:\n",
    "    print(\"You've used your brush head for %s seconds, more than the recommended amount! Time to replace your brush head!\" % brush_usage_total)"
   ]
  },
  {
   "cell_type": "markdown",
   "metadata": {},
   "source": [
    "## Ingest Data -- Fault Detection"
   ]
  },
  {
   "cell_type": "code",
   "execution_count": 34,
   "metadata": {},
   "outputs": [],
   "source": [
    "client.drop_database('timeseriesdb')\n",
    "client.create_database('timeseriesdb')\n",
    "client.switch_database('timeseriesdb')"
   ]
  },
  {
   "cell_type": "code",
   "execution_count": 35,
   "metadata": {},
   "outputs": [],
   "source": [
    "f = open('data/offline-train.txt', 'r')\n",
    "lines = f.readlines()\n",
    "f.close()"
   ]
  },
  {
   "cell_type": "code",
   "execution_count": 36,
   "metadata": {},
   "outputs": [],
   "source": [
    "measurement = 'gear_metrics'"
   ]
  },
  {
   "cell_type": "code",
   "execution_count": 37,
   "metadata": {},
   "outputs": [],
   "source": [
    "data = []"
   ]
  },
  {
   "cell_type": "code",
   "execution_count": 38,
   "metadata": {},
   "outputs": [
    {
     "data": {
      "text/plain": [
       "'offline'"
      ]
     },
     "execution_count": 38,
     "metadata": {},
     "output_type": "execute_result"
    }
   ],
   "source": [
    "x = json.loads(lines[0])\n",
    "x['metric']"
   ]
  },
  {
   "cell_type": "code",
   "execution_count": 39,
   "metadata": {},
   "outputs": [],
   "source": [
    "data = []\n",
    "for line in lines:\n",
    "    json_line = json.loads(line)\n",
    "    # Form: 'gear_metrics,metric=offline label=0,sr=97656.0,rate=25.0,gs=0.8407559,load=270.0,timestamp=0'\n",
    "    data.append(\"{},metric={} label={},sr={},rate={},gs={},load={},timestamp={}\".format(measurement, json_line['metric'], json_line['label'], json_line['sr'], json_line['rate'], json_line['gs'], json_line['load'], json_line['timestamp']))\n",
    "    \n",
    "    "
   ]
  },
  {
   "cell_type": "code",
   "execution_count": 40,
   "metadata": {},
   "outputs": [
    {
     "data": {
      "text/plain": [
       "['gear_metrics,metric=offline label=0,sr=97656.0,rate=25.0,gs=0.8407559,load=270.0,timestamp=0',\n",
       " 'gear_metrics,metric=offline label=0,sr=97656.0,rate=25.0,gs=0.5152432,load=270.0,timestamp=1',\n",
       " 'gear_metrics,metric=offline label=0,sr=97656.0,rate=25.0,gs=-0.03834483,load=270.0,timestamp=2',\n",
       " 'gear_metrics,metric=offline label=0,sr=97656.0,rate=25.0,gs=1.184862,load=270.0,timestamp=3',\n",
       " 'gear_metrics,metric=offline label=0,sr=97656.0,rate=25.0,gs=0.8497145,load=270.0,timestamp=4',\n",
       " 'gear_metrics,metric=offline label=0,sr=97656.0,rate=25.0,gs=-0.3333637,load=270.0,timestamp=5',\n",
       " 'gear_metrics,metric=offline label=0,sr=97656.0,rate=25.0,gs=0.0906198,load=270.0,timestamp=6',\n",
       " 'gear_metrics,metric=offline label=0,sr=97656.0,rate=25.0,gs=-0.3867708,load=270.0,timestamp=7',\n",
       " 'gear_metrics,metric=offline label=0,sr=97656.0,rate=25.0,gs=-0.4381106,load=270.0,timestamp=8',\n",
       " 'gear_metrics,metric=offline label=0,sr=97656.0,rate=25.0,gs=-0.7925295,load=270.0,timestamp=9']"
      ]
     },
     "execution_count": 40,
     "metadata": {},
     "output_type": "execute_result"
    }
   ],
   "source": [
    "data[:10]"
   ]
  },
  {
   "cell_type": "code",
   "execution_count": 41,
   "metadata": {},
   "outputs": [
    {
     "data": {
      "text/plain": [
       "True"
      ]
     },
     "execution_count": 41,
     "metadata": {},
     "output_type": "execute_result"
    }
   ],
   "source": [
    "client.write_points(data, database='timeseriesdb', time_precision='ms', batch_size=100, protocol='line')"
   ]
  },
  {
   "cell_type": "code",
   "execution_count": 42,
   "metadata": {},
   "outputs": [],
   "source": [
    "results = client.query('SELECT \"gs\", \"timestamp\" FROM \"timeseriesdb\".\"autogen\".\"gear_metrics\"')"
   ]
  },
  {
   "cell_type": "code",
   "execution_count": 43,
   "metadata": {},
   "outputs": [],
   "source": [
    "points = results.get_points()"
   ]
  },
  {
   "cell_type": "code",
   "execution_count": 44,
   "metadata": {},
   "outputs": [
    {
     "name": "stdout",
     "output_type": "stream",
     "text": [
      "Time: 999, gs: -0.09621894\n",
      "Time: 1999, gs: 0.1416888\n",
      "Time: 2999, gs: 0.08137816\n",
      "Time: 3999, gs: -0.8822632\n",
      "Time: 4999, gs: -2.037014\n",
      "Time: 5999, gs: -0.3781445\n",
      "Time: 6999, gs: -0.3467278\n",
      "Time: 7999, gs: -0.633908\n",
      "Time: 8999, gs: 0.1000706\n",
      "Time: 9999, gs: -0.909939\n",
      "Time: 10999, gs: 0.628395\n",
      "Time: 11999, gs: -1.3821\n",
      "Time: 12999, gs: -1.620475\n",
      "Time: 13999, gs: 0.3959387\n",
      "Time: 14999, gs: 0.4736004\n",
      "Time: 15999, gs: -0.1138039\n",
      "Time: 16999, gs: -0.3331299\n",
      "Time: 17999, gs: -1.714762\n",
      "Time: 18999, gs: 0.9085484\n",
      "Time: 19999, gs: -0.0829656\n",
      "Time: 20999, gs: -0.1310197\n",
      "Time: 21999, gs: 0.03379169\n",
      "Time: 22999, gs: -0.2600828\n",
      "Time: 23999, gs: 0.5562953\n",
      "Time: 24999, gs: 0.09843398\n",
      "Time: 25999, gs: 0.3499642\n",
      "Time: 26451, gs: 1.082577\n"
     ]
    }
   ],
   "source": [
    "for point in points:\n",
    "    print(\"Time: {}, gs: {}\".format(point['timestamp'], point['gs']))"
   ]
  },
  {
   "cell_type": "code",
   "execution_count": null,
   "metadata": {},
   "outputs": [],
   "source": []
  },
  {
   "cell_type": "code",
   "execution_count": null,
   "metadata": {},
   "outputs": [],
   "source": []
  }
 ],
 "metadata": {
  "kernelspec": {
   "display_name": "Python 3",
   "language": "python",
   "name": "python3"
  },
  "language_info": {
   "codemirror_mode": {
    "name": "ipython",
    "version": 3
   },
   "file_extension": ".py",
   "mimetype": "text/x-python",
   "name": "python",
   "nbconvert_exporter": "python",
   "pygments_lexer": "ipython3",
   "version": "3.7.3"
  }
 },
 "nbformat": 4,
 "nbformat_minor": 2
}
