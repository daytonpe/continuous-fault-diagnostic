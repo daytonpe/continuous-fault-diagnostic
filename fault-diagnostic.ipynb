{
 "cells": [
  {
   "cell_type": "markdown",
   "metadata": {},
   "source": [
    "# CS6301 IOT Project 2\n",
    "\n",
    "## Fault Diagnostic Tool (Read Side)\n",
    "\n",
    "This side of the application ingests data from the data generator and ensures it's being imported into the database correctly.\n",
    "\n",
    "### Before Running this Notebook\n",
    "1. Ensure the database is running on your localhost. Using docker-compose file in the root of the project directory we can start the InfluxDB with the following command from the root directory:\n",
    "`dc up timeseriesdb`\n",
    "\n",
    "2. Turn on the data generator with the following command from the \"iot\" directory.\n",
    "`java -jar datagen-2.2-SNAPSHOT.jar -offline`"
   ]
  },
  {
   "cell_type": "markdown",
   "metadata": {},
   "source": [
    "## Connect to Database"
   ]
  },
  {
   "cell_type": "code",
   "execution_count": 1,
   "metadata": {},
   "outputs": [
    {
     "name": "stdout",
     "output_type": "stream",
     "text": [
      "Requirement already satisfied: influxdb in /Users/daytonpe/anaconda3/lib/python3.7/site-packages (5.2.3)\n",
      "Requirement already satisfied: python-dateutil>=2.6.0 in /Users/daytonpe/anaconda3/lib/python3.7/site-packages (from influxdb) (2.8.0)\n",
      "Requirement already satisfied: six>=1.10.0 in /Users/daytonpe/anaconda3/lib/python3.7/site-packages (from influxdb) (1.12.0)\n",
      "Requirement already satisfied: requests>=2.17.0 in /Users/daytonpe/anaconda3/lib/python3.7/site-packages (from influxdb) (2.21.0)\n",
      "Requirement already satisfied: pytz in /Users/daytonpe/anaconda3/lib/python3.7/site-packages (from influxdb) (2018.9)\n",
      "Requirement already satisfied: certifi>=2017.4.17 in /Users/daytonpe/anaconda3/lib/python3.7/site-packages (from requests>=2.17.0->influxdb) (2019.9.11)\n",
      "Requirement already satisfied: idna<2.9,>=2.5 in /Users/daytonpe/anaconda3/lib/python3.7/site-packages (from requests>=2.17.0->influxdb) (2.8)\n",
      "Requirement already satisfied: chardet<3.1.0,>=3.0.2 in /Users/daytonpe/anaconda3/lib/python3.7/site-packages (from requests>=2.17.0->influxdb) (3.0.4)\n",
      "Requirement already satisfied: urllib3<1.25,>=1.21.1 in /Users/daytonpe/anaconda3/lib/python3.7/site-packages (from requests>=2.17.0->influxdb) (1.24.1)\n"
     ]
    }
   ],
   "source": [
    "!pip install influxdb"
   ]
  },
  {
   "cell_type": "code",
   "execution_count": 27,
   "metadata": {},
   "outputs": [],
   "source": [
    "from influxdb import InfluxDBClient\n",
    "import json"
   ]
  },
  {
   "cell_type": "code",
   "execution_count": 28,
   "metadata": {},
   "outputs": [],
   "source": [
    "client = InfluxDBClient(host='localhost', port=8086, username='admin', password='password')"
   ]
  },
  {
   "cell_type": "code",
   "execution_count": 29,
   "metadata": {},
   "outputs": [],
   "source": [
    "# client.drop_database('fault-detector')"
   ]
  },
  {
   "cell_type": "code",
   "execution_count": 30,
   "metadata": {},
   "outputs": [
    {
     "data": {
      "text/plain": [
       "[{'name': 'timeseriesdb'}]"
      ]
     },
     "execution_count": 30,
     "metadata": {},
     "output_type": "execute_result"
    }
   ],
   "source": [
    "client.get_list_database()"
   ]
  },
  {
   "cell_type": "markdown",
   "metadata": {},
   "source": [
    "## Ingest Data (Example: Toothbrush)\n",
    "This section simply used as an example for working with InfluxDB."
   ]
  },
  {
   "cell_type": "code",
   "execution_count": 7,
   "metadata": {},
   "outputs": [],
   "source": [
    "client.create_database('pyexample')"
   ]
  },
  {
   "cell_type": "code",
   "execution_count": 8,
   "metadata": {},
   "outputs": [],
   "source": [
    "client.switch_database('pyexample')"
   ]
  },
  {
   "cell_type": "code",
   "execution_count": 9,
   "metadata": {},
   "outputs": [],
   "source": [
    "json_body = [\n",
    "    {\n",
    "        \"measurement\": \"brushEvents\",\n",
    "        \"tags\": {\n",
    "            \"user\": \"Carol\",\n",
    "            \"brushId\": \"6c89f539-71c6-490d-a28d-6c5d84c0ee2f\"\n",
    "        },\n",
    "        \"time\": \"2020-03-28T8:01:00Z\",\n",
    "        \"fields\": {\n",
    "            \"duration\": 127\n",
    "        }\n",
    "    },\n",
    "    {\n",
    "        \"measurement\": \"brushEvents\",\n",
    "        \"tags\": {\n",
    "            \"user\": \"Carol\",\n",
    "            \"brushId\": \"6c89f539-71c6-490d-a28d-6c5d84c0ee2f\"\n",
    "        },\n",
    "        \"time\": \"2020-03-29T8:04:00Z\",\n",
    "        \"fields\": {\n",
    "            \"duration\": 132\n",
    "        }\n",
    "    },\n",
    "    {\n",
    "        \"measurement\": \"brushEvents\",\n",
    "        \"tags\": {\n",
    "            \"user\": \"Carol\",\n",
    "            \"brushId\": \"6c89f539-71c6-490d-a28d-6c5d84c0ee2f\"\n",
    "        },\n",
    "        \"time\": \"2020-03-30T8:02:00Z\",\n",
    "        \"fields\": {\n",
    "            \"duration\": 129\n",
    "        }\n",
    "    }\n",
    "]"
   ]
  },
  {
   "cell_type": "code",
   "execution_count": 10,
   "metadata": {},
   "outputs": [
    {
     "data": {
      "text/plain": [
       "True"
      ]
     },
     "execution_count": 10,
     "metadata": {},
     "output_type": "execute_result"
    }
   ],
   "source": [
    "client.write_points(json_body)"
   ]
  },
  {
   "cell_type": "code",
   "execution_count": 11,
   "metadata": {},
   "outputs": [],
   "source": [
    "results = client.query('SELECT \"duration\" FROM \"pyexample\".\"autogen\".\"brushEvents\" WHERE time > now() - 4d GROUP BY \"user\"')"
   ]
  },
  {
   "cell_type": "code",
   "execution_count": 12,
   "metadata": {},
   "outputs": [
    {
     "data": {
      "text/plain": [
       "[('brushEvents', {'user': 'Carol'})]"
      ]
     },
     "execution_count": 12,
     "metadata": {},
     "output_type": "execute_result"
    }
   ],
   "source": [
    "results.keys()"
   ]
  },
  {
   "cell_type": "code",
   "execution_count": 13,
   "metadata": {},
   "outputs": [],
   "source": [
    "points = results.get_points(tags={'user':'Carol'})"
   ]
  },
  {
   "cell_type": "code",
   "execution_count": 14,
   "metadata": {},
   "outputs": [
    {
     "name": "stdout",
     "output_type": "stream",
     "text": [
      "Time: 2020-03-28T08:01:00Z, Duration: 127\n",
      "Time: 2020-03-29T08:04:00Z, Duration: 132\n",
      "Time: 2020-03-30T08:02:00Z, Duration: 129\n"
     ]
    }
   ],
   "source": [
    "for point in points:\n",
    "    print(\"Time: %s, Duration: %i\" % (point['time'], point['duration']))"
   ]
  },
  {
   "cell_type": "code",
   "execution_count": 15,
   "metadata": {},
   "outputs": [
    {
     "name": "stdout",
     "output_type": "stream",
     "text": [
      "You've used your brush head for 388 seconds, more than the recommended amount! Time to replace your brush head!\n"
     ]
    }
   ],
   "source": [
    "results = client.query('SELECT \"duration\" FROM \"pyexample\".\"autogen\".\"brushEvents\" WHERE time > now() - 4d GROUP BY \"brushId\"')\n",
    "points = results.get_points(tags={'brushId': '6c89f539-71c6-490d-a28d-6c5d84c0ee2f'})\n",
    "brush_usage_total = 0\n",
    "for point in points:\n",
    "    brush_usage_total = brush_usage_total + point['duration']\n",
    "\n",
    "if brush_usage_total > 350:\n",
    "    print(\"You've used your brush head for %s seconds, more than the recommended amount! Time to replace your brush head!\" % brush_usage_total)"
   ]
  },
  {
   "cell_type": "markdown",
   "metadata": {},
   "source": [
    "## Ingest Data (Example: Offline Data)\n",
    "In this section we will ingest the data from a text file for exploration purposes. Normally this data would be ingesteddirctly from the Java data generator."
   ]
  },
  {
   "cell_type": "code",
   "execution_count": 31,
   "metadata": {},
   "outputs": [],
   "source": [
    "client.drop_database('timeseriesdb')\n",
    "client.create_database('timeseriesdb')\n",
    "client.switch_database('timeseriesdb')"
   ]
  },
  {
   "cell_type": "code",
   "execution_count": 10,
   "metadata": {},
   "outputs": [],
   "source": [
    "f = open('data/offline-train.txt', 'r')\n",
    "lines = f.readlines()\n",
    "f.close()"
   ]
  },
  {
   "cell_type": "code",
   "execution_count": 11,
   "metadata": {},
   "outputs": [
    {
     "data": {
      "text/plain": [
       "26452"
      ]
     },
     "execution_count": 11,
     "metadata": {},
     "output_type": "execute_result"
    }
   ],
   "source": [
    "len(lines)"
   ]
  },
  {
   "cell_type": "code",
   "execution_count": 12,
   "metadata": {},
   "outputs": [],
   "source": [
    "measurement = 'gear_metrics'"
   ]
  },
  {
   "cell_type": "code",
   "execution_count": 13,
   "metadata": {},
   "outputs": [],
   "source": [
    "data = []"
   ]
  },
  {
   "cell_type": "code",
   "execution_count": 14,
   "metadata": {},
   "outputs": [
    {
     "data": {
      "text/plain": [
       "{'metric': 'offline',\n",
       " 'timestamp': 0,\n",
       " 'label': 0,\n",
       " 'sr': 97656.0,\n",
       " 'rate': 25.0,\n",
       " 'gs': 0.8407559,\n",
       " 'load': '270.0'}"
      ]
     },
     "execution_count": 14,
     "metadata": {},
     "output_type": "execute_result"
    }
   ],
   "source": [
    "x = json.loads(lines[0])\n",
    "x"
   ]
  },
  {
   "cell_type": "code",
   "execution_count": 15,
   "metadata": {},
   "outputs": [],
   "source": [
    "data = []\n",
    "for line in lines:\n",
    "    json_line = json.loads(line)\n",
    "    # Form: 'gear_metrics,metric=offline label=0,sr=97656.0,rate=25.0,gs=0.8407559,load=270.0,timestamp=0'\n",
    "    data.append(\"{},metric={} label={},sr={},rate={},gs={},load={},timestamp={}\".format(measurement, json_line['metric'], json_line['label'], json_line['sr'], json_line['rate'], json_line['gs'], json_line['load'], json_line['timestamp']))\n",
    "    \n",
    "    "
   ]
  },
  {
   "cell_type": "code",
   "execution_count": 16,
   "metadata": {},
   "outputs": [
    {
     "data": {
      "text/plain": [
       "['gear_metrics,metric=offline label=0,sr=97656.0,rate=25.0,gs=0.8407559,load=270.0,timestamp=0',\n",
       " 'gear_metrics,metric=offline label=0,sr=97656.0,rate=25.0,gs=0.5152432,load=270.0,timestamp=1',\n",
       " 'gear_metrics,metric=offline label=0,sr=97656.0,rate=25.0,gs=-0.03834483,load=270.0,timestamp=2',\n",
       " 'gear_metrics,metric=offline label=0,sr=97656.0,rate=25.0,gs=1.184862,load=270.0,timestamp=3',\n",
       " 'gear_metrics,metric=offline label=0,sr=97656.0,rate=25.0,gs=0.8497145,load=270.0,timestamp=4',\n",
       " 'gear_metrics,metric=offline label=0,sr=97656.0,rate=25.0,gs=-0.3333637,load=270.0,timestamp=5',\n",
       " 'gear_metrics,metric=offline label=0,sr=97656.0,rate=25.0,gs=0.0906198,load=270.0,timestamp=6',\n",
       " 'gear_metrics,metric=offline label=0,sr=97656.0,rate=25.0,gs=-0.3867708,load=270.0,timestamp=7',\n",
       " 'gear_metrics,metric=offline label=0,sr=97656.0,rate=25.0,gs=-0.4381106,load=270.0,timestamp=8',\n",
       " 'gear_metrics,metric=offline label=0,sr=97656.0,rate=25.0,gs=-0.7925295,load=270.0,timestamp=9']"
      ]
     },
     "execution_count": 16,
     "metadata": {},
     "output_type": "execute_result"
    }
   ],
   "source": [
    "data[:10]"
   ]
  },
  {
   "cell_type": "code",
   "execution_count": 17,
   "metadata": {},
   "outputs": [
    {
     "data": {
      "text/plain": [
       "True"
      ]
     },
     "execution_count": 17,
     "metadata": {},
     "output_type": "execute_result"
    }
   ],
   "source": [
    "client.write_points(data, database='timeseriesdb', time_precision='ms', batch_size=100, protocol='line')"
   ]
  },
  {
   "cell_type": "code",
   "execution_count": 25,
   "metadata": {},
   "outputs": [],
   "source": [
    "results = client.query('SELECT label, sr, rate, gs, load, timestamp FROM timeseriesdb.autogen.gear_metrics')"
   ]
  },
  {
   "cell_type": "code",
   "execution_count": 26,
   "metadata": {},
   "outputs": [
    {
     "data": {
      "text/plain": [
       "234"
      ]
     },
     "execution_count": 26,
     "metadata": {},
     "output_type": "execute_result"
    }
   ],
   "source": [
    "len(results.raw['series'][0]['values'])"
   ]
  },
  {
   "cell_type": "code",
   "execution_count": 20,
   "metadata": {},
   "outputs": [
    {
     "data": {
      "text/plain": [
       "[['2020-03-22T22:08:28.898Z', 0, 97656, 25, -0.6083242, 270, 99],\n",
       " ['2020-03-22T22:08:28.953Z', 0, 97656, 25, -1.005764, 270, 199],\n",
       " ['2020-03-22T22:08:28.969Z', 0, 97656, 25, -1.57044, 270, 299],\n",
       " ['2020-03-22T22:08:28.981Z', 0, 97656, 25, 0.3499642, 270, 399],\n",
       " ['2020-03-22T22:08:28.991Z', 0, 97656, 25, 0.1315735, 270, 499],\n",
       " ['2020-03-22T22:08:29.002Z', 0, 97656, 25, -0.7119758, 270, 599],\n",
       " ['2020-03-22T22:08:29.011Z', 0, 97656, 25, -0.4874076, 270, 699],\n",
       " ['2020-03-22T22:08:29.02Z', 0, 97656, 25, -1.071809, 270, 799],\n",
       " ['2020-03-22T22:08:29.03Z', 0, 97656, 25, -0.4716315, 270, 899],\n",
       " ['2020-03-22T22:08:29.041Z', 0, 97656, 25, -0.09621894, 270, 999]]"
      ]
     },
     "execution_count": 20,
     "metadata": {},
     "output_type": "execute_result"
    }
   ],
   "source": [
    "results.raw['series'][0]['values'][0:10]"
   ]
  },
  {
   "cell_type": "raw",
   "metadata": {},
   "source": [
    "points = results.get_points()"
   ]
  },
  {
   "cell_type": "code",
   "execution_count": 37,
   "metadata": {},
   "outputs": [],
   "source": [
    "for point in points:\n",
    "    print(\"Time: {}, gs: {}\".format(point['timestamp'], point['gs']))"
   ]
  },
  {
   "cell_type": "markdown",
   "metadata": {},
   "source": [
    "## Visualize Ingested Data\n",
    "In this section we visualize the data ingested from the Java data generator. "
   ]
  },
  {
   "cell_type": "code",
   "execution_count": null,
   "metadata": {},
   "outputs": [],
   "source": []
  },
  {
   "cell_type": "code",
   "execution_count": null,
   "metadata": {},
   "outputs": [],
   "source": []
  }
 ],
 "metadata": {
  "kernelspec": {
   "display_name": "Python 3",
   "language": "python",
   "name": "python3"
  },
  "language_info": {
   "codemirror_mode": {
    "name": "ipython",
    "version": 3
   },
   "file_extension": ".py",
   "mimetype": "text/x-python",
   "name": "python",
   "nbconvert_exporter": "python",
   "pygments_lexer": "ipython3",
   "version": "3.7.3"
  }
 },
 "nbformat": 4,
 "nbformat_minor": 2
}
