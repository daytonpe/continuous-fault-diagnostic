{
 "cells": [
  {
   "cell_type": "code",
   "execution_count": 18,
   "metadata": {},
   "outputs": [
    {
     "name": "stdout",
     "output_type": "stream",
     "text": [
      "Collecting influxdb\n",
      "  Using cached https://files.pythonhosted.org/packages/ef/02/da676b46a3c7b7387151554bd71a15d455ec512222f7f5171ae8607522aa/influxdb-5.2.3-py2.py3-none-any.whl\n",
      "Requirement already satisfied: requests>=2.17.0 in /Users/daytonpe/anaconda3/lib/python3.7/site-packages (from influxdb) (2.21.0)\n",
      "Requirement already satisfied: pytz in /Users/daytonpe/anaconda3/lib/python3.7/site-packages (from influxdb) (2018.9)\n",
      "Requirement already satisfied: six>=1.10.0 in /Users/daytonpe/anaconda3/lib/python3.7/site-packages (from influxdb) (1.12.0)\n",
      "Requirement already satisfied: python-dateutil>=2.6.0 in /Users/daytonpe/anaconda3/lib/python3.7/site-packages (from influxdb) (2.8.0)\n",
      "Requirement already satisfied: chardet<3.1.0,>=3.0.2 in /Users/daytonpe/anaconda3/lib/python3.7/site-packages (from requests>=2.17.0->influxdb) (3.0.4)\n",
      "Requirement already satisfied: certifi>=2017.4.17 in /Users/daytonpe/anaconda3/lib/python3.7/site-packages (from requests>=2.17.0->influxdb) (2019.9.11)\n",
      "Requirement already satisfied: idna<2.9,>=2.5 in /Users/daytonpe/anaconda3/lib/python3.7/site-packages (from requests>=2.17.0->influxdb) (2.8)\n",
      "Requirement already satisfied: urllib3<1.25,>=1.21.1 in /Users/daytonpe/anaconda3/lib/python3.7/site-packages (from requests>=2.17.0->influxdb) (1.24.1)\n",
      "Installing collected packages: influxdb\n",
      "Successfully installed influxdb-5.2.3\n"
     ]
    }
   ],
   "source": [
    "!pip install influxdb"
   ]
  },
  {
   "cell_type": "code",
   "execution_count": 19,
   "metadata": {},
   "outputs": [],
   "source": [
    "from influxdb import InfluxDBClient"
   ]
  },
  {
   "cell_type": "code",
   "execution_count": 20,
   "metadata": {},
   "outputs": [],
   "source": [
    "client = InfluxDBClient(host='localhost', port=8086)"
   ]
  },
  {
   "cell_type": "code",
   "execution_count": 24,
   "metadata": {},
   "outputs": [],
   "source": [
    "client.drop_database('fault-detector')"
   ]
  },
  {
   "cell_type": "code",
   "execution_count": 25,
   "metadata": {},
   "outputs": [
    {
     "data": {
      "text/plain": [
       "[{'name': 'timeseriesdb'}, {'name': '_internal'}]"
      ]
     },
     "execution_count": 25,
     "metadata": {},
     "output_type": "execute_result"
    }
   ],
   "source": [
    "client.get_list_database()"
   ]
  },
  {
   "cell_type": "code",
   "execution_count": 26,
   "metadata": {},
   "outputs": [],
   "source": [
    "client.switch_database('timeseriesdb')"
   ]
  },
  {
   "cell_type": "code",
   "execution_count": null,
   "metadata": {},
   "outputs": [],
   "source": []
  }
 ],
 "metadata": {
  "kernelspec": {
   "display_name": "Python 3",
   "language": "python",
   "name": "python3"
  },
  "language_info": {
   "codemirror_mode": {
    "name": "ipython",
    "version": 3
   },
   "file_extension": ".py",
   "mimetype": "text/x-python",
   "name": "python",
   "nbconvert_exporter": "python",
   "pygments_lexer": "ipython3",
   "version": "3.7.3"
  }
 },
 "nbformat": 4,
 "nbformat_minor": 2
}
